{
 "cells": [
  {
   "cell_type": "markdown",
   "source": [
    "# Homework_2022_03_03\n",
    "\n",
    "<font color=ff0000> 截止日期 3.20 中午 11:59</font>"
   ],
   "metadata": {
    "collapsed": false
   }
  },
  {
   "cell_type": "markdown",
   "source": [
    "首先请你创建矩阵$A, B, C, D$，它们都是服从标准正态分布的矩阵，其中$A$的大小为$20\\times 40$，$B$的大小为$40\\times 40$，$C$的大小为$40\\times 1$, $D$的大小为$40 \\times 1$."
   ],
   "metadata": {
    "collapsed": false
   }
  },
  {
   "cell_type": "code",
   "execution_count": 1,
   "outputs": [],
   "source": [
    "import numpy as np\n",
    "np.random.seed(1)\n",
    "# TODO\n",
    "# 不用print\n",
    "\n",
    "# 徐帆 1900017734\n",
    "a = np.arange(9).reshape(3, 3)\n",
    "print(a)\n",
    "# TODO\n",
    "a[1:3,1:3] = np.rot90(a[1:3,1:3], 2)\n",
    "a[1] = np.flip(a[1])\n",
    "print(a)"
   ],
   "metadata": {
    "collapsed": false,
    "pycharm": {
     "name": "#%%\n",
     "is_executing": false
    }
   }
  },
  {
   "cell_type": "markdown",
   "source": [
    "### Q1.1（1分） 计算$R=A+A$, $R=A^TA$, $R=AB$, $R=B-I$。"
   ],
   "metadata": {
    "collapsed": false
   }
  },
  {
   "cell_type": "code",
   "execution_count": 2,
   "outputs": [],
   "source": [
    "# TODO\n",
    "# 不用print"
   ],
   "metadata": {
    "collapsed": false,
    "pycharm": {
     "name": "#%%\n",
     "is_executing": false
    }
   }
  },
  {
   "cell_type": "markdown",
   "source": [
    "### Q1.2（1分）计算方程组的解。\n",
    "\n",
    "$$\n",
    "\\left\\{\\begin{aligned}\n",
    "2 x_{1}+x_{2}+x_{3} &=5 \\\\\n",
    "3 x_{1}+2 x_{2}+ 2 x_{3} &=8 \\\\\n",
    "x_{2}+2 x_{3} &=2\n",
    "\\end{aligned}\\right.\n",
    "$$"
   ],
   "metadata": {
    "collapsed": false
   }
  },
  {
   "cell_type": "code",
   "execution_count": 3,
   "outputs": [
    {
     "name": "stdout",
     "text": [
      "[[2.]\n [0.]\n [1.]]\n"
     ],
     "output_type": "stream"
    }
   ],
   "source": [
    "# TODO"
   ],
   "metadata": {
    "collapsed": false,
    "pycharm": {
     "name": "#%%\n",
     "is_executing": false
    }
   }
  },
  {
   "cell_type": "markdown",
   "source": [
    "### Q1.3（2分）求解矩阵的特征值以及对应的特征向量。输出最大最小特征值以及对应的特征向量。并画出求出的特征向量。\n",
    "使用np.linalg.eig。"
   ],
   "metadata": {
    "collapsed": false
   }
  },
  {
   "cell_type": "code",
   "execution_count": 4,
   "outputs": [
    {
     "name": "stdout",
     "text": [
      "3.0 [0. 1.]\n2.0 [1. 0.]\n"
     ],
     "output_type": "stream"
    }
   ],
   "source": [
    "R = np.array([[2,0],[0,3]])\n",
    "# TODO"
   ],
   "metadata": {
    "collapsed": false,
    "pycharm": {
     "name": "#%%\n",
     "is_executing": false
    }
   }
  },
  {
   "cell_type": "markdown",
   "source": [
    "### 画出求出的特征向量。要求用quiver绘制箭头。"
   ],
   "metadata": {
    "collapsed": false
   }
  },
  {
   "cell_type": "code",
   "execution_count": 5,
   "outputs": [
    {
     "data": {
      "text/plain": "<Figure size 432x288 with 1 Axes>",
      "image/png": "[encoded data removed]"
     },
     "metadata": {
      "needs_background": "light"
     },
     "output_type": "display_data"
    }
   ],
   "source": [
    "import matplotlib.pyplot as plt\n",
    "# TODO"
   ],
   "metadata": {
    "collapsed": false,
    "pycharm": {
     "name": "#%%\n",
     "is_executing": false
    }
   }
  },
  {
   "cell_type": "markdown",
   "source": [
    "### Q1.4（1分）给定两个矩阵，求Pearson相关系数。\n",
    "Pearson相关系数，是用来判断两个变量线性相关程度的一个统计指标。\n",
    "$cov(x,y)$表示$x$和$y$的协方差。$\\sigma_x$和$\\sigma_y$分别是$x$和$y$的标准差。\n",
    "\n",
    "$$corr_{x,y}=\\frac{cov(x,y)}{\\sigma_x*\\sigma_y}$$\n",
    "\n",
    "要求用np.cov按照公式计算。"
   ],
   "metadata": {
    "collapsed": false
   }
  },
  {
   "cell_type": "code",
   "execution_count": 8,
   "outputs": [
    {
     "name": "stdout",
     "text": [
      "[[1.32435978 0.72846413]\n [0.72846413 0.93219979]]\n"
     ],
     "output_type": "stream"
    }
   ],
   "source": [
    "np.random.seed(1)\n",
    "\n",
    "xy = np.random.randn(2, 10)\n",
    "# TODO"
   ],
   "metadata": {
    "collapsed": false,
    "pycharm": {
     "name": "#%%\n",
     "is_executing": false
    }
   }
  },
  {
   "cell_type": "markdown",
   "source": [
    "### Q1.5（1分）哈达玛矩阵。\n",
    "\n",
    "哈达玛矩阵是由+1和-1元素构成的方阵，并且遵循：\n",
    "\n",
    "$$H_{n}\\otimes H_{n}^{T}=nI$$\n",
    "\n",
    "\n",
    "$$H_1 = \\frac{1}{\\sqrt{2}}[\\begin{matrix} \n",
    "1 &1\\\\ \n",
    "1 &-1 \\\\ \\end{matrix}]$$\n",
    "\n",
    "$$H_n = H_1 \\otimes H_{n-1} = \\frac{1}{\\sqrt{2}}\n",
    "[\\begin{matrix} \n",
    "H_{n-1} &H_{n-1}\\\\ \n",
    "H_{n-1} &-H_{n-1} \\\\ \\end{matrix}]\n",
    "$$\n",
    "\n",
    "哈达玛矩阵的阶数都是2的倍数。实现一个函数，可以输出$2^k$阶的哈达玛矩阵。\n",
    "用np.hstack构建此矩阵，可以不必带上系数。"
   ],
   "metadata": {
    "collapsed": false
   }
  },
  {
   "cell_type": "code",
   "execution_count": 7,
   "outputs": [
    {
     "name": "stdout",
     "text": [
      "[[8 0 0 0 0 0 0 0]\n [0 8 0 0 0 0 0 0]\n [0 0 8 0 0 0 0 0]\n [0 0 0 8 0 0 0 0]\n [0 0 0 0 8 0 0 0]\n [0 0 0 0 0 8 0 0]\n [0 0 0 0 0 0 8 0]\n [0 0 0 0 0 0 0 8]]\n"
     ],
     "output_type": "stream"
    }
   ],
   "source": [
    "def hada(k):\n",
    "    # TODO\n",
    "    \n",
    "h8 = hada(3)\n",
    "print(h8 @ h8.T)"
   ],
   "metadata": {
    "collapsed": false,
    "pycharm": {
     "name": "#%%\n",
     "is_executing": false
    }
   }
  },
  {
   "cell_type": "markdown",
   "source": [
    "### Q1.6（选做）（1分）将矩阵$a$转换成蛇形数组。请不要引入新的变量，所有变化操作都在$a$上进行。"
   ],
   "metadata": {
    "collapsed": false
   }
  },
  {
   "cell_type": "code",
   "execution_count": 9,
   "outputs": [
    {
     "name": "stdout",
     "text": [
      "[[0 1 2]\n [3 4 5]\n [6 7 8]]\n[[0 1 2]\n [7 8 3]\n [6 5 4]]\n"
     ],
     "output_type": "stream"
    }
   ],
   "source": [
    "a = np.arange(9).reshape(3, 3)\n",
    "# TODO"
   ],
   "metadata": {
    "collapsed": false,
    "pycharm": {
     "name": "#%%\n",
     "is_executing": false
    }
   }
  },
  {
   "cell_type": "markdown",
   "source": [
    "### Q2.1（2分）实现课上讲的PCA降维，并要求取最大的两个特征值来恢复矩阵。"
   ],
   "metadata": {
    "collapsed": false
   }
  },
  {
   "cell_type": "code",
   "execution_count": 10,
   "outputs": [
    {
     "name": "stdout",
     "text": [
      "0.8426843495317922\n0.8426843495317918\n"
     ],
     "output_type": "stream"
    }
   ],
   "source": [
    "np.random.seed(1)\n",
    "\n",
    "x = 7*np.random.rand(100)\n",
    "y = 0.5*x + 1 + 3*np.random.rand(100)\n",
    "\n",
    "X = np.hstack([x.reshape(100, 1), x.reshape(100, 1), y.reshape(100, 1), x.reshape(100, 1)])\n",
    "\n",
    "def centerData(X):\n",
    "    X = X.copy()\n",
    "    X -= np.mean(X, axis=0)\n",
    "    return X\n",
    "\n",
    "X = centerData(X)\n",
    "print(X[7][2])\n",
    "# TODO\n",
    "\n",
    "# END TODO\n",
    "print(reconstruct_X[7][2])\n",
    "\n",
    "\n",
    "\n",
    "\n",
    "# 时有恒 2000013151\n",
    "S = np.cov(X, rowvar=0)  # S:样本协方差矩阵(4,4)\n",
    "eigval, eigvec = np.linalg.eig(S)  # 计算特征值与特征向量\n",
    "# 排序\n",
    "l = np.vstack((eigval, eigvec)).T\n",
    "l = l[np.argsort(-l[:, 0])]\n",
    "l = l[0:2].T\n",
    "\n",
    "print(\"两个最大的特征值：\", l[0][0], l[0][1])\n",
    "\n",
    "\n",
    "U = l[1:]  # U:主成分特征矩阵(4,2)\n",
    "Z = X @ U  # Z降维后的矩阵(100,2)\n",
    "reconstruct_X = (Z @ U.T)  # 重构后的矩阵\n",
    "\n",
    "# END TODO\n",
    "print(reconstruct_X[7][2])\n"
   ],
   "metadata": {
    "collapsed": false,
    "pycharm": {
     "name": "#%%\n",
     "is_executing": false
    }
   }
  },
  {
   "cell_type": "markdown",
   "source": [
    "### Q2.2（2分）用SVD奇异值分解来压缩矩阵。"
   ],
   "metadata": {
    "collapsed": false
   }
  },
  {
   "cell_type": "markdown",
   "source": [
    "SVD将原始的矩阵$Data$分解成三个矩阵$U$,$\\Sigma$,和$V^T$，如果原始矩阵$Data$是$m$行$n$列，那么$U$,$\\Sigma$,和$V^T$就分别是$m$行$m$列、$m$行$n$列和$n$行$n$列。\n",
    "\n",
    "为了清晰起见，上述过程可以写成如下一行：$$Data_{m\\times n}=U_{m\\times m}\\Sigma_{m \\times n}V^T_{n\\times n}$$\n",
    "\n",
    "上述分解中会构建出一个矩阵$\\Sigma$，该矩阵只有对角元素，其他元素均为0. 另一个惯例就是，$\\Sigma$的对角元素是从大到小排列的。这些对角元素称为奇异值（Singular Value），它们就是矩阵$Data Data^{T}$特征值的平方根。\n",
    "\n",
    "在科学工程中，一直存在这样一个普遍事实：在某个奇异值的数目（$r$个）之后，其他的奇异值都置为0.这就意味着数据集中仅有$r$个重要特征，而其余特征则都是噪声或冗余特征。\n",
    "\n",
    "本题要求用如下结果来近似原矩阵\n",
    "$$Data_{m\\times n}\\approx U_{m\\times 3}\\Sigma_{3 \\times 3}V^T_{3\\times n}$$\n",
    "\n",
    "对矩阵$A$进行SVD分解，使用np.linalg.svd。"
   ],
   "metadata": {
    "collapsed": false
   }
  },
  {
   "cell_type": "code",
   "execution_count": 15,
   "outputs": [],
   "source": [
    "# TODO\n",
    "# 不用print\n",
    "\n",
    "\n",
    "# 黄楠 1900012126\n",
    "print(A[5][21])\n",
    "U,sigma,V=np.linalg.svd(A)\n",
    "U1=U[:,:3]\n",
    "sigma1=np.diag(sigma[:3])\n",
    "print(sigma)\n",
    "V1=V[:3,:]\n",
    "A1=U1.dot(sigma1).dot(V1)\n",
    "print(np.allclose(A, A1))\n",
    "print(A1[5][21])"
   ],
   "metadata": {
    "collapsed": false,
    "pycharm": {
     "name": "#%%\n",
     "is_executing": false
    }
   }
  }
 ],
 "metadata": {
  "kernelspec": {
   "display_name": "PyCharm (pyCLASS)",
   "language": "python",
   "name": "pycharm-8fcd274a"
  },
  "language_info": {
   "codemirror_mode": {
    "name": "ipython",
    "version": 2
   },
   "file_extension": ".py",
   "mimetype": "text/x-python",
   "name": "python",
   "nbconvert_exporter": "python",
   "pygments_lexer": "ipython2",
   "version": "2.7.6"
  },
  "pycharm": {
   "stem_cell": {
    "cell_type": "raw",
    "source": [],
    "metadata": {
     "collapsed": false
    }
   }
  }
 },
 "nbformat": 4,
 "nbformat_minor": 0
}